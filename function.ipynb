{
  "nbformat": 4,
  "nbformat_minor": 0,
  "metadata": {
    "colab": {
      "provenance": []
    },
    "kernelspec": {
      "name": "python3",
      "display_name": "Python 3"
    },
    "language_info": {
      "name": "python"
    }
  },
  "cells": [
    {
      "cell_type": "markdown",
      "source": [],
      "metadata": {
        "id": "zONMtdowhj4t"
      }
    },
    {
      "cell_type": "markdown",
      "source": [
        "1. What is the difference between a function and a method in Python?\n",
        "\n",
        "A function is a block of reusable code that performs a specific task. It is defined using the `def` keyword and exists independently. It can be called by its name and is not tied to any object.\n",
        "\n",
        "Example:\n",
        "```python\n",
        "def greet():\n",
        "    print(\"Hello!\")\n",
        "\n",
        "greet()\n",
        "```\n",
        "\n",
        "A method is a function that is associated with an object, usually defined inside a class. It is called on an object and often takes `self` as the first parameter.\n",
        "\n",
        "Example:\n",
        "```python\n",
        "class Person:\n",
        "    def greet(self):\n",
        "        print(\"Hello from a method!\")\n",
        "\n",
        "p = Person()\n",
        "p.greet()\n",
        "```\n",
        "\n",
        "Key difference: Methods are functions that belong to objects (instances of classes), while regular functions do not.\n",
        "\n",
        "\n",
        "2. Explain the concept of function arguments and parameters in Python.\n",
        "\n",
        "Parameters are the variable names listed in a function definition. Arguments are the actual values passed to the function when it is called.\n",
        "\n",
        "Example:\n",
        "```python\n",
        "def add(x, y):  # x and y are parameters\n",
        "    return x + y\n",
        "\n",
        "add(3, 5)  # 3 and 5 are arguments\n",
        "```\n",
        "\n",
        "So, parameters define what the function expects, and arguments are what you provide when calling the function.\n",
        "\n",
        "\n",
        "3. What are the different ways to define and call a function in Python?\n",
        "\n",
        "Functions can be defined using the `def` keyword or with a lambda expression.\n",
        "\n",
        "Examples:\n",
        "\n",
        "Standard definition:\n",
        "```python\n",
        "def say_hello(name):\n",
        "    return f\"Hello, {name}!\"\n",
        "```\n",
        "\n",
        "Lambda function:\n",
        "```python\n",
        "greet = lambda name: f\"Hello, {name}!\"\n",
        "```\n",
        "\n",
        "Functions can be called in different ways:\n",
        "\n",
        "- Positional arguments: `say_hello(\"Alice\")`\n",
        "- Keyword arguments: `say_hello(name=\"Bob\")`\n",
        "- Default parameters:\n",
        "```python\n",
        "def greet(name=\"Guest\"):\n",
        "    return f\"Hello, {name}!\"\n",
        "\n",
        "greet()\n",
        "```\n",
        "- Variable-length arguments:\n",
        "```python\n",
        "def total(*args):\n",
        "    return sum(args)\n",
        "\n",
        "total(1, 2, 3)\n",
        "```\n",
        "\n",
        "\n",
        "4. What is the purpose of the `return` statement in a Python function?\n",
        "\n",
        "The `return` statement is used to send a value back from a function to the caller. It ends the function's execution and provides the output.\n",
        "\n",
        "Example:\n",
        "```python\n",
        "def multiply(x, y):\n",
        "    return x * y\n",
        "\n",
        "result = multiply(2, 3)\n",
        "```\n",
        "\n",
        "If no `return` is used, the function returns `None` by default.\n",
        "\n",
        "\n",
        "5. What are iterators in Python and how do they differ from iterables?\n",
        "\n",
        "An iterable is any object capable of returning its members one by one. Lists, tuples, and strings are all iterables. They implement the `__iter__()` method.\n",
        "\n",
        "An iterator is an object that represents a stream of data and knows how to return the next item using the `__next__()` method. It implements both `__iter__()` and `__next__()`.\n",
        "\n",
        "Example:\n",
        "```python\n",
        "nums = [1, 2, 3]       # Iterable\n",
        "it = iter(nums)        # Convert to iterator\n",
        "print(next(it))        # Output: 1\n",
        "```\n",
        "\n",
        "Difference: All iterators are iterables, but not all iterables are iterators.\n",
        "\n",
        "\n",
        "6. Explain the concept of generators in Python and how they are defined.\n",
        "\n",
        "Generators are a type of iterator that yield values one at a time using the `yield` keyword instead of `return`. They don't store all values in memory but generate them on the fly.\n",
        "\n",
        "Example:\n",
        "```python\n",
        "def count_up_to(n):\n",
        "    i = 1\n",
        "    while i <= n:\n",
        "        yield i\n",
        "        i += 1\n",
        "\n",
        "gen = count_up_to(3)\n",
        "print(next(gen))  # Output: 1\n",
        "```\n",
        "\n",
        "Generators are defined like normal functions but use `yield` instead of `return`.\n",
        "\n",
        "\n",
        "7. What are the advantages of using generators over regular functions?\n",
        "\n",
        "- Memory efficiency: They don't store all values in memory.\n",
        "- Lazy evaluation: Values are generated only when requested.\n",
        "- Useful for large or infinite data sets.\n",
        "- Simpler syntax compared to writing custom iterator classes.\n",
        "\n",
        "Example:\n",
        "```python\n",
        "def large_gen():\n",
        "    for i in range(1000000):\n",
        "        yield i\n",
        "```\n",
        "\n",
        "This avoids creating a huge list in memory.\n",
        "\n",
        "\n",
        "8. What is a lambda function in Python and when is it typically used?\n",
        "\n",
        "A lambda function is an anonymous, one-line function defined with the `lambda` keyword. It is often used for short operations, especially when passed as an argument to functions like `map`, `filter`, or `sorted`.\n",
        "\n",
        "Example:\n",
        "```python\n",
        "square = lambda x: x * x\n",
        "print(square(4))  # Output: 16\n",
        "```\n",
        "\n",
        "Common use:\n",
        "```python\n",
        "nums = [1, 2, 3]\n",
        "squared = list(map(lambda x: x**2, nums))\n",
        "```\n",
        "\n",
        "\n",
        "9. Explain the purpose and usage of the `map()` function in Python.\n",
        "\n",
        "The `map()` function applies a given function to each item of an iterable and returns an iterator.\n",
        "\n",
        "Syntax:\n",
        "```python\n",
        "map(function, iterable)\n",
        "```\n",
        "\n",
        "Example:\n",
        "```python\n",
        "nums = [1, 2, 3]\n",
        "result = map(lambda x: x + 1, nums)\n",
        "print(list(result))  # Output: [2, 3, 4]\n",
        "```\n",
        "\n",
        "It is used for transforming items in an iterable without writing an explicit loop.\n",
        "\n",
        "\n",
        "10. What is the difference between `map()`, `reduce()`, and `filter()` functions in Python?\n",
        "\n",
        "- `map()` applies a function to every item in an iterable.\n",
        "- `filter()` returns items that match a condition.\n",
        "- `reduce()` applies a function cumulatively to reduce the iterable to a single value.\n",
        "\n",
        "Examples:\n",
        "```python\n",
        "from functools import reduce\n",
        "\n",
        "# map: transform\n",
        "squares = map(lambda x: x*x, [1, 2, 3])  # [1, 4, 9]\n",
        "\n",
        "# filter: select\n",
        "evens = filter(lambda x: x % 2 == 0, [1, 2, 3, 4])  # [2, 4]\n",
        "\n",
        "# reduce: aggregate\n",
        "total = reduce(lambda x, y: x + y, [1, 2, 3, 4])  # 10\n",
        "```\n",
        "\n",
        "Each of these functions supports functional programming by avoiding explicit loops.\n",
        "\n",
        "11. Using pen & Paper write the internal mechanism for sum operation using  reduce function on this given\n",
        "list:[47,11,42,13];\n",
        "-"
      ],
      "metadata": {
        "id": "C8DfqTvelsfu"
      }
    },
    {
      "cell_type": "code",
      "execution_count": null,
      "metadata": {
        "id": "O54WJEgChb1Y"
      },
      "outputs": [],
      "source": []
    },
    {
      "cell_type": "code",
      "source": [
        "# 1\n",
        "def sum_of_even(numbers):\n",
        "    return sum(num for num in numbers if num % 2 == 0)\n",
        ""
      ],
      "metadata": {
        "id": "CM9QXVN4nTC6"
      },
      "execution_count": 1,
      "outputs": []
    },
    {
      "cell_type": "code",
      "source": [
        "\n",
        "# 2\n",
        "def reverse_string(s):\n",
        "    return s[::-1]\n"
      ],
      "metadata": {
        "id": "CM_TUefEnZ7V"
      },
      "execution_count": null,
      "outputs": []
    },
    {
      "cell_type": "code",
      "source": [
        "# 3\n",
        "def square_list(numbers):\n",
        "    return [x**2 for x in numbers]"
      ],
      "metadata": {
        "id": "jmg2oP1Bna95"
      },
      "execution_count": null,
      "outputs": []
    },
    {
      "cell_type": "code",
      "source": [
        "# 4\n",
        "def is_prime(n):\n",
        "    if n < 2:\n",
        "        return False\n",
        "    for i in range(2, int(n**0.5) + 1):\n",
        "        if n % i == 0:\n",
        "            return False\n",
        "    return True\n",
        "\n",
        "primes = [n for n in range(1, 201) if is_prime(n)]"
      ],
      "metadata": {
        "id": "X43em8rBnbL3"
      },
      "execution_count": null,
      "outputs": []
    },
    {
      "cell_type": "code",
      "source": [
        "\n",
        "# 5\n",
        "class FibonacciIterator:\n",
        "    def __init__(self, terms):\n",
        "        self.terms = terms\n",
        "        self.count = 0\n",
        "        self.a, self.b = 0, 1\n",
        "\n",
        "    def __iter__(self):\n",
        "        return self\n",
        "\n",
        "    def __next__(self):\n",
        "        if self.count >= self.terms:\n",
        "            raise StopIteration\n",
        "        result = self.a\n",
        "        self.a, self.b = self.b, self.a + self.b\n",
        "        self.count += 1\n",
        "        return result"
      ],
      "metadata": {
        "id": "a1X8R2BinbZh"
      },
      "execution_count": null,
      "outputs": []
    },
    {
      "cell_type": "code",
      "source": [
        "# 6\n",
        "def powers_of_two(n):\n",
        "    for i in range(n + 1):\n",
        "        yield 2 ** i\n"
      ],
      "metadata": {
        "id": "RKUdFE25nbm6"
      },
      "execution_count": null,
      "outputs": []
    },
    {
      "cell_type": "code",
      "source": [
        "\n",
        "# 7\n",
        "def read_lines(filepath):\n",
        "    with open(filepath, 'r') as file:\n",
        "        for line in file:\n",
        "            yield line.strip()"
      ],
      "metadata": {
        "id": "_pEBvpeoncEM"
      },
      "execution_count": null,
      "outputs": []
    },
    {
      "cell_type": "code",
      "source": [
        "# 8\n",
        "tuples = [(1, 3), (4, 1), (2, 2)]\n",
        "sorted_tuples = sorted(tuples, key=lambda x: x[1])"
      ],
      "metadata": {
        "id": "DWLZpxoAncQr"
      },
      "execution_count": null,
      "outputs": []
    },
    {
      "cell_type": "code",
      "source": [
        "\n",
        "# 9\n",
        "celsius = [0, 20, 37, 100]\n",
        "fahrenheit = list(map(lambda c: (c * 9/5) + 32, celsius))"
      ],
      "metadata": {
        "id": "Ux6A4Duynccy"
      },
      "execution_count": null,
      "outputs": []
    },
    {
      "cell_type": "code",
      "source": [
        "orders = [\n",
        "    [34587, \"Learning Python, Mark Lutz\", 4, 40.95],\n",
        "    [98762, \"Programming Python, Mark Lutz\", 5, 56.80],\n",
        "    [77226, \"Head First Python, Paul Barry\", 3, 32.95],\n",
        "    [88112, \"Einführung in Python3, Bernd Klein\", 3, 24.99]\n",
        "]\n",
        "\n",
        "result = list(map(lambda order: (\n",
        "    order[0],\n",
        "    order[2] * order[3] if order[2] * order[3] >= 100\n",
        "    else order[2] * order[3] + 10\n",
        "), orders))\n",
        "\n",
        "print(result)\n"
      ],
      "metadata": {
        "colab": {
          "base_uri": "https://localhost:8080/"
        },
        "id": "k7vhbMgGncqA",
        "outputId": "b860ffc5-ec32-4f56-e4b5-d3d183fc9dbb"
      },
      "execution_count": 2,
      "outputs": [
        {
          "output_type": "stream",
          "name": "stdout",
          "text": [
            "[(34587, 163.8), (98762, 284.0), (77226, 108.85000000000001), (88112, 84.97)]\n"
          ]
        }
      ]
    }
  ]
}